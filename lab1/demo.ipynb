{
 "cells": [
  {
   "cell_type": "markdown",
   "metadata": {},
   "source": [
    "# 1. Introduction"
   ]
  },
  {
   "cell_type": "code",
   "execution_count": null,
   "metadata": {},
   "outputs": [],
   "source": [
    "print(\"Welcome to the Machine Learning Preprocessing and Modeling Demonstration!\")"
   ]
  },
  {
   "cell_type": "markdown",
   "metadata": {},
   "source": [
    "# 2. Data Loading and Imputation of Missing Values"
   ]
  },
  {
   "cell_type": "code",
   "execution_count": null,
   "metadata": {},
   "outputs": [],
   "source": [
    "from src.loader import load_data\n",
    "df_breast_cancer = load_data(\"../assets/breast_cancer_wisconsin_original/breast-cancer-wisconsin.csv\")\n",
    "df_breast_cancer.head()"
   ]
  },
  {
   "cell_type": "code",
   "execution_count": null,
   "metadata": {},
   "outputs": [],
   "source": [
    "from src.preprocessing import DataPipeline\n",
    "import pandas as pd\n",
    "\n",
    "df = pd.DataFrame({\n",
    "    'A': [1, 2, 3, '?', 5],\n",
    "    'B': ['Low', 'Medium', 'High', 'Low', 'Medium'],\n",
    "    'C': ['Red', 'Green', 'Red', 'Green', 'Red'],\n",
    "    'D': [0.5, 0.7, 0.2, 0.4, 0.9],\n",
    "})\n",
    "pipeline_imputation = DataPipeline([{\"operation\": \"fill_missing_values\"}])\n",
    "df = pipeline_imputation.run(df)\n",
    "df.head()"
   ]
  },
  {
   "cell_type": "markdown",
   "metadata": {},
   "source": [
    "# 3. One-Hot Encoding for Categorical Variables"
   ]
  },
  {
   "cell_type": "code",
   "execution_count": null,
   "metadata": {},
   "outputs": [],
   "source": [
    "df_forest_fires = load_data(\"../assets/forest_fires/forestfires.csv\")\n",
    "steps_encoding = [\n",
    "    {\"operation\": \"one_hot_encode\", \"params\": {\"column\": \"month\"}},\n",
    "    {\"operation\": \"one_hot_encode\", \"params\": {\"column\": \"day\"}}\n",
    "]\n",
    "pipeline_encoding = DataPipeline(steps_encoding)\n",
    "df_forest_fires = pipeline_encoding.run(df_forest_fires)\n",
    "df_forest_fires.head()"
   ]
  },
  {
   "cell_type": "markdown",
   "metadata": {},
   "source": [
    "# 4. Discretization & Standardization"
   ]
  },
  {
   "cell_type": "code",
   "execution_count": null,
   "metadata": {},
   "outputs": [],
   "source": [
    "steps_standardization = [\n",
    "    {\"operation\": \"standardize\", \"params\": {\"column\": \"FFMC\"}}\n",
    "]\n",
    "pipeline_standardization = DataPipeline(steps_standardization)\n",
    "df_forest_fires = pipeline_standardization.run(df_forest_fires)\n",
    "df_forest_fires[\"FFMC\"].head()"
   ]
  },
  {
   "cell_type": "code",
   "execution_count": null,
   "metadata": {},
   "outputs": [],
   "source": [
    "steps_standardization = [\n",
    "    {\"operation\": \"discretize_equal_width\", \"params\": {\"column\": \"temp\", \"bins\":5}},\n",
    "    {\"operation\": \"discretize_equal_frequency\", \"params\": {\"column\": \"ISI\", \"bins\":5}}\n",
    "]\n",
    "pipeline_standardization = DataPipeline(steps_standardization)\n",
    "df_forest_fires = pipeline_standardization.run(df_forest_fires)\n",
    "df_forest_fires[[\"temp\", \"ISI\"]].head()"
   ]
  },
  {
   "cell_type": "markdown",
   "metadata": {},
   "source": [
    "# 5. Cross-Validation with k=10"
   ]
  },
  {
   "cell_type": "code",
   "execution_count": null,
   "metadata": {},
   "outputs": [],
   "source": [
    "from src.cross_validation import k_fold_split, train_test_split\n",
    "from src.models import NullModel\n",
    "from src.evaluation_metrics import accuracy\n",
    "\n",
    "model_classification = NullModel(task=\"classification\")\n",
    "df_breast_cancer = df_breast_cancer.rename(columns={\"class\": \"target\"})\n",
    "\n",
    "scores = []\n",
    "# alter stratified here\n",
    "for train_fold, dev_fold in k_fold_split(df_breast_cancer, n_splits=10, stratified=True):\n",
    "    model_classification.fit(train_fold.drop(\"target\", axis=1), train_fold[\"target\"])\n",
    "    preds = model_classification.predict(dev_fold.drop(\"target\", axis=1))\n",
    "    score = accuracy(dev_fold[\"target\"], preds)\n",
    "    scores.append(score)\n",
    "\n",
    "scores\n"
   ]
  },
  {
   "cell_type": "markdown",
   "metadata": {},
   "source": [
    "# 6. K x 2 Cross-Validation with k=5"
   ]
  },
  {
   "cell_type": "code",
   "execution_count": null,
   "metadata": {},
   "outputs": [],
   "source": [
    "scores_kx2 = []\n",
    "for _ in range(5):\n",
    "    # Splitting the data into (training + dev) and test datasets\n",
    "    train_dev_df, test_df = train_test_split(df_breast_cancer, test_size=0.2, stratified=True)\n",
    "    for train_fold, dev_fold in k_fold_split(train_dev_df, n_splits=2, stratified=True): \n",
    "        model_classification.fit(train_fold.drop(\"target\", axis=1), train_fold[\"target\"])\n",
    "        preds = model_classification.predict(dev_fold.drop(\"target\", axis=1))\n",
    "        score = accuracy(dev_fold[\"target\"], preds)\n",
    "        scores_kx2.append(score)\n",
    "\n",
    "scores_kx2\n"
   ]
  },
  {
   "cell_type": "markdown",
   "metadata": {},
   "source": [
    "# 7. Evaluation Metrics"
   ]
  },
  {
   "cell_type": "code",
   "execution_count": null,
   "metadata": {},
   "outputs": [],
   "source": [
    "from src.evaluation_metrics import mean_squared_error\n",
    "\n",
    "model_regression = NullModel(task=\"regression\")\n",
    "df_forest_fires = df_forest_fires.rename(columns={\"area\": \"target\"})\n",
    "scores_mse = []\n",
    "\n",
    "for train_fold, dev_fold in k_fold_split(df_forest_fires):\n",
    "    model_regression.fit(train_fold.drop(\"target\", axis=1), train_fold[\"target\"])\n",
    "    preds = model_regression.predict(dev_fold.drop(\"target\", axis=1))\n",
    "    score = mean_squared_error(dev_fold[\"target\"], preds)\n",
    "    scores_mse.append(score)\n",
    "\n",
    "avg_mse = sum(scores_mse) / len(scores_mse)\n",
    "avg_mse"
   ]
  },
  {
   "cell_type": "markdown",
   "metadata": {},
   "source": [
    "# 8. Conclusion"
   ]
  },
  {
   "cell_type": "code",
   "execution_count": null,
   "metadata": {},
   "outputs": [],
   "source": [
    "print(\"Thank you for watching the demonstration!\")"
   ]
  },
  {
   "cell_type": "code",
   "execution_count": null,
   "metadata": {},
   "outputs": [],
   "source": []
  }
 ],
 "metadata": {
  "kernelspec": {
   "display_name": "base",
   "language": "python",
   "name": "python3"
  },
  "language_info": {
   "codemirror_mode": {
    "name": "ipython",
    "version": 3
   },
   "file_extension": ".py",
   "mimetype": "text/x-python",
   "name": "python",
   "nbconvert_exporter": "python",
   "pygments_lexer": "ipython3",
   "version": "3.11.4"
  },
  "orig_nbformat": 4
 },
 "nbformat": 4,
 "nbformat_minor": 2
}
