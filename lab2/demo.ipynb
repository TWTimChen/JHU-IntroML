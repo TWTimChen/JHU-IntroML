{
 "cells": [
  {
   "cell_type": "markdown",
   "metadata": {},
   "source": [
    "# Preperations\n",
    "\n",
    "## Import Necessary Modules"
   ]
  },
  {
   "cell_type": "code",
   "execution_count": null,
   "metadata": {},
   "outputs": [],
   "source": [
    "import sys\n",
    "import numpy as np\n",
    "sys.path.append(\"../lab1\")\n",
    "\n",
    "from mltk.loader import load_data\n",
    "from mltk.preprocessing import DataPipeline\n",
    "from mltk.cross_validation import k_fold_split\n",
    "from knn import KNN"
   ]
  },
  {
   "cell_type": "markdown",
   "metadata": {},
   "source": [
    "## Load and Preprocess Data for Classification Tasks"
   ]
  },
  {
   "cell_type": "code",
   "execution_count": null,
   "metadata": {},
   "outputs": [],
   "source": [
    "# Load and preprocess the classification data\n",
    "df_classification = load_data(\"../assets/breast_cancer_wisconsin_original/breast-cancer-wisconsin.csv\")\n",
    "df_classification = df_classification.drop(['sample_code_number'], axis=1)\n",
    "\n",
    "steps_classification = [\n",
    "    {\"operation\": \"fill_missing_values\"},\n",
    "    {\"operation\": \"standardize\", \"params\": {\"column\": [\n",
    "        \"clump_thickness\", \"uni_cell_size\", \"uni_cell_shape\",\n",
    "        \"marginal_adhesion\", \"single_epithelial_cell_size\", \"bare_nuclei\",\n",
    "        \"bland_chromatin\", \"normal_nucleoli\", \"mitoses\"\n",
    "    ]}},\n",
    "]\n",
    "pipeline_classification = DataPipeline(steps_classification)\n",
    "df_classification = pipeline_classification.run(df_classification)\n",
    "df_classification = df_classification.rename(columns={\"class\": \"target\"})\n"
   ]
  },
  {
   "cell_type": "markdown",
   "metadata": {},
   "source": [
    "## Load and Preprocess Data for Regression Tasks"
   ]
  },
  {
   "cell_type": "code",
   "execution_count": null,
   "metadata": {},
   "outputs": [],
   "source": [
    "# Load and preprocess the regression data\n",
    "df_regression = load_data(\"../assets/forest_fires/forestfires.csv\")\n",
    "\n",
    "steps_regression = [\n",
    "    {\"operation\": \"fill_missing_values\"},\n",
    "    {\"operation\": \"one_hot_encode\",\"params\": {\"column\": \"month\"}},\n",
    "    {\"operation\": \"one_hot_encode\",\"params\": {\"column\": \"day\"}},\n",
    "    {\"operation\": \"standardize\", \"params\": {\"column\": [\"X\", \"Y\", \"FFMC\", \"DMC\", \"DC\", \"ISI\", \"temp\", \"RH\", \"wind\", \"rain\"]}},\n",
    "]\n",
    "\n",
    "pipeline_regression = DataPipeline(steps_regression)\n",
    "df_regression = pipeline_regression.run(df_regression)\n",
    "df_regression = df_regression.rename(columns={\"area\": \"target\"})\n"
   ]
  },
  {
   "cell_type": "markdown",
   "metadata": {},
   "source": [
    "# Demo\n",
    "\n",
    "## Splitting Data into Five Folds"
   ]
  },
  {
   "cell_type": "code",
   "execution_count": null,
   "metadata": {},
   "outputs": [],
   "source": [
    "# Use the given k_fold_split function or an equivalent to demonstrate this\n",
    "folds_classification = list(k_fold_split(df_classification, n_splits=5))\n",
    "for i, (train, dev) in enumerate(folds_classification):\n",
    "    print(f\"Classification Data - Size of Fold {i+1}: Train: {len(train)}, dev: {len(dev)}\")\n"
   ]
  },
  {
   "cell_type": "markdown",
   "metadata": {},
   "source": [
    "## Demonstrate Calculation of Distance Function"
   ]
  },
  {
   "cell_type": "code",
   "execution_count": null,
   "metadata": {},
   "outputs": [],
   "source": [
    "# Initializing a KNN model for the demonstration\n",
    "knn_classifier = KNN(k=3)\n",
    "\n",
    "# Sample data instances\n",
    "instance1 = df_regression.iloc[0]\n",
    "instance2 = df_regression.iloc[1]\n",
    "\n",
    "# Calculation\n",
    "knn_classifier.fit(df_regression.drop(\"target\", axis=1), df_regression[\"target\"])\n",
    "distance = knn_classifier.vdm_distance(df_regression, instance1, instance2, 'target')\n",
    "\n",
    "print(f\"Distance between instance 1 and instance 2: {distance}\")\n"
   ]
  },
  {
   "cell_type": "markdown",
   "metadata": {},
   "source": [
    "## Demonstrate Calculation of Kernel Function"
   ]
  },
  {
   "cell_type": "code",
   "execution_count": null,
   "metadata": {},
   "outputs": [],
   "source": [
    "x = np.array([1, 2, 3])\n",
    "xq = np.array([4, 5, 6])\n",
    "gamma_value = 0.5\n",
    "\n",
    "kernel_value = knn_classifier.rbf_kernel(x, xq, gamma_value)\n",
    "\n",
    "print(f\"Kernel value between x and xq with gamma {gamma_value}: {kernel_value}\")\n"
   ]
  },
  {
   "cell_type": "markdown",
   "metadata": {},
   "source": [
    "## Demonstrate Classification using k-NN"
   ]
  },
  {
   "cell_type": "code",
   "execution_count": null,
   "metadata": {},
   "outputs": [],
   "source": [
    "# Initialize the KNN object\n",
    "knn_classifier = KNN(k=5, task=\"classification\")\n",
    "knn_classifier.fit(df_classification.iloc[1:].drop(\"target\", axis=1), df_classification.iloc[1:][\"target\"])\n",
    "\n",
    "# Sample instance for classification\n",
    "sample_instance_classification = df_classification.iloc[0:1]\n",
    "\n",
    "predicted_class = knn_classifier.predict(sample_instance_classification)\n",
    "print(f\"Predicted Class for the instance: {predicted_class[0]}\")\n",
    "print(f\"Actual Class for the instance: {df_classification.iloc[0:1]['target'].values[0]}\")\n"
   ]
  },
  {
   "cell_type": "markdown",
   "metadata": {},
   "source": [
    "## Demonstrate Regression using k-NN"
   ]
  },
  {
   "cell_type": "code",
   "execution_count": null,
   "metadata": {},
   "outputs": [],
   "source": [
    "# Initialize the KNN object\n",
    "knn_regressor = KNN(k=5, task=\"regression\", gamma=3)\n",
    "knn_regressor.fit(df_regression.drop(\"target\", axis=1), df_regression[\"target\"])\n",
    "\n",
    "# Sample instance for regression\n",
    "sample_instance_regression = df_regression.iloc[0:1]\n",
    "\n",
    "predicted_value = knn_regressor.predict(sample_instance_regression)\n",
    "print(f\"Predicted Value for the instance: {predicted_value[0]}\")\n",
    "print(f\"Actual Value for the instance: {df_regression.iloc[0:1]['target'].values[0]}\")\n"
   ]
  },
  {
   "cell_type": "markdown",
   "metadata": {},
   "source": [
    "## Demonstrate Edited k-NN"
   ]
  },
  {
   "cell_type": "code",
   "execution_count": null,
   "metadata": {},
   "outputs": [],
   "source": [
    "# Using the same classification data\n",
    "edited_data = knn_classifier.edited_k_nearest_neighbors(df_classification, 3)\n",
    "\n",
    "print(f\"Number of rows before editing: {len(df_classification)}\")\n",
    "print(f\"Number of rows after editing: {len(edited_data)}\")\n"
   ]
  },
  {
   "cell_type": "markdown",
   "metadata": {},
   "source": [
    "## Demonstrate Condensed k-NN"
   ]
  },
  {
   "cell_type": "code",
   "execution_count": null,
   "metadata": {},
   "outputs": [],
   "source": [
    "condensed_data = knn_classifier.condensed_k_nearest_neighbors(df_classification, 3)\n",
    "\n",
    "print(f\"Number of rows before condensation: {len(df_classification)}\")\n",
    "print(f\"Number of rows after condensation: {len(condensed_data)}\")\n"
   ]
  },
  {
   "cell_type": "code",
   "execution_count": null,
   "metadata": {},
   "outputs": [],
   "source": []
  }
 ],
 "metadata": {
  "kernelspec": {
   "display_name": "base",
   "language": "python",
   "name": "python3"
  },
  "language_info": {
   "codemirror_mode": {
    "name": "ipython",
    "version": 3
   },
   "file_extension": ".py",
   "mimetype": "text/x-python",
   "name": "python",
   "nbconvert_exporter": "python",
   "pygments_lexer": "ipython3",
   "version": "3.11.4"
  },
  "orig_nbformat": 4
 },
 "nbformat": 4,
 "nbformat_minor": 2
}
